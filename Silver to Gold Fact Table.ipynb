{
 "cells": [
  {
   "cell_type": "code",
   "source": [
    "# Welcome to your new notebook\n",
    "# Type here in the cell editor to add code!\n",
    "Gold_lakehouse_Path = \"abfss://BARQ_Intenrship@onelake.dfs.fabric.microsoft.com/Gold_lakehouse.Lakehouse/Tables\"\n",
    "\n",
    "df = spark.read.parquet(\"Files/sales_data/sales_cleaned\")\n",
    "\n",
    "\n",
    "# Load dimensions\n",
    "dim_customer = spark.read.format(\"delta\").load(f\"{Gold_lakehouse_Path}/DimCustomer\")\n",
    "dim_product = spark.read.format(\"delta\").load(f\"{Gold_lakehouse_Path}/DimProduct\")\n",
    "dim_store = spark.read.format(\"delta\").load(f\"{Gold_lakehouse_Path}/DimStore\")\n",
    "\n"
   ],
   "outputs": [
    {
     "output_type": "display_data",
     "data": {
      "application/vnd.livy.statement-meta+json": {
       "spark_pool": null,
       "statement_id": 6,
       "statement_ids": [
        6
       ],
       "state": "finished",
       "livy_statement_state": "available",
       "session_id": "7ab55832-a700-4179-bad5-8044a89fb3b3",
       "normalized_state": "finished",
       "queued_time": "2025-08-06T12:43:40.2210155Z",
       "session_start_time": null,
       "execution_start_time": "2025-08-06T12:43:40.2221211Z",
       "execution_finish_time": "2025-08-06T12:43:46.2575164Z",
       "parent_msg_id": "eccc61be-32ac-4771-b491-8301496cabd7"
      },
      "text/plain": "StatementMeta(, 7ab55832-a700-4179-bad5-8044a89fb3b3, 6, Finished, Available, Finished)"
     },
     "metadata": {}
    }
   ],
   "execution_count": 4,
   "metadata": {
    "microsoft": {
     "language": "python",
     "language_group": "synapse_pyspark"
    }
   },
   "id": "3e596836-c158-4c4c-8dcc-38992d32c235"
  },
  {
   "cell_type": "code",
   "source": " ",
   "outputs": [
    {
     "output_type": "display_data",
     "data": {
      "application/vnd.livy.statement-meta+json": {
       "spark_pool": null,
       "statement_id": 7,
       "statement_ids": [
        7
       ],
       "state": "finished",
       "livy_statement_state": "available",
       "session_id": "7ab55832-a700-4179-bad5-8044a89fb3b3",
       "normalized_state": "finished",
       "queued_time": "2025-08-06T12:48:01.8215282Z",
       "session_start_time": null,
       "execution_start_time": "2025-08-06T12:48:01.8226448Z",
       "execution_finish_time": "2025-08-06T12:48:17.8208257Z",
       "parent_msg_id": "7fb2e39d-5ef1-48da-aa61-a34ab6393a4e"
      },
      "text/plain": "StatementMeta(, 7ab55832-a700-4179-bad5-8044a89fb3b3, 7, Finished, Available, Finished)"
     },
     "metadata": {}
    },
    {
     "output_type": "stream",
     "name": "stdout",
     "text": [
      "+----------+----------------+-----+------------+----------+-----------+---------+--------+------------+----------+---------------+--------------+------------+\n|store_city|product_category|color|       brand|unit_price| first_name|last_name|quantity|total_amount| sale_date|Dim_Customer_ID|Dim_Product_ID|Dim_Store_ID|\n+----------+----------------+-----+------------+----------+-----------+---------+--------+------------+----------+---------------+--------------+------------+\n|  Hurghada|          Hoodie|Black|        Nike|     225.0|     Joshua|     Clay|       3|       675.0|2022-04-04|           4568|          1428|           5|\n|  Hurghada|         T-Shirt|White|        Nike|     144.0|   Jennifer|   Hansen|       5|       720.0|2022-02-19|           3883|          9222|           5|\n|     Cairo|        Sneakers| Blue|        Nike|     211.0|Christopher|     Bell|       1|       211.0|2022-02-24|           1642|          5603|           3|\n|     Cairo|         T-Shirt|Green|      Reebok|     201.0|      Amber|    Blake|       5|      1005.0|2025-04-02|            330|          8877|           3|\n|     Tanta|          Hoodie| Gray|      Reebok|     329.0|     Justin|Rodriguez|       2|       658.0|2022-08-28|           4739|          2002|           6|\n|Alexandria|        Sneakers|  Red|        Nike|     274.0|    Jessica|     Park|       4|      1096.0|2022-02-08|           4110|          6283|           1|\n|      Giza|          Shorts|White|      Adidas|     147.0|  Elizabeth|   Chavez|       1|       147.0|2023-01-01|           2726|          5111|           4|\n|      Giza|             Cap|Black|        Puma|     235.0|     Joshua|     Gray|       5|      1175.0|2025-04-26|           4579|           110|           4|\n|     Aswan|           Socks|Black|Under Armour|     293.0|   Virginia|   Willis|       1|       293.0|2025-01-29|           9121|          6877|           2|\n|  Hurghada|           Shoes|Green|        Puma|     285.0|       Eric|   Warren|       5|      1425.0|2024-07-08|           2880|          3496|           5|\n|     Cairo|        Sneakers|White|        Nike|     495.0|    Zachary|    Gross|       2|       990.0|2024-10-11|           9319|          6557|           3|\n|     Cairo|          Shorts|Black|      Adidas|     242.0|    Timothy|  Vasquez|       4|       968.0|2024-04-16|           8769|          4071|           3|\n|Alexandria|             Cap| Gray|        Puma|     281.0|    Melissa|     Ross|       3|       843.0|2023-04-29|           6341|           557|           1|\n|  Hurghada|         T-Shirt| Gray|        Puma|     411.0|     Evelyn|    Riley|       1|       411.0|2022-07-25|           2974|          8633|           5|\n|  Hurghada|          Hoodie|White|      Reebok|     183.0|       Beth|   Montes|       2|       366.0|2025-02-12|            921|          2641|           5|\n|  Hurghada|             Cap| Blue|        Puma|     212.0|    Bernard|  Schultz|       5|      1060.0|2025-05-21|            915|           329|           5|\n|Alexandria|          Hoodie|  Red|        Nike|     261.0|    Belinda|   Snyder|       1|       261.0|2022-04-25|            878|          2346|           1|\n|Alexandria|             Cap|  Red|        Nike|     467.0|     Andrew|   Kramer|       5|      2335.0|2024-09-14|            493|           981|           1|\n|     Tanta|          Shorts|White|Under Armour|     173.0|       Troy|  Edwards|       4|       692.0|2025-04-24|           8954|          5296|           6|\n|  Hurghada|          Shorts|White|      Adidas|     375.0|     Steven|    Mccoy|       5|      1875.0|2022-07-19|           8337|          5133|           5|\n+----------+----------------+-----+------------+----------+-----------+---------+--------+------------+----------+---------------+--------------+------------+\nonly showing top 20 rows\n\n"
     ]
    }
   ],
   "execution_count": 5,
   "metadata": {
    "microsoft": {
     "language": "python",
     "language_group": "synapse_pyspark"
    }
   },
   "id": "35aff50c-afd9-46d2-b3f8-0b7491c769c6"
  },
  {
   "cell_type": "code",
   "source": [
    "df_fact = df_fact.select(\"Dim_Customer_ID\", \"Dim_Product_ID\", \"Dim_Store_ID\",\n",
    "                \"quantity\", \"total_amount\", \"sale_date\")\n",
    "\n",
    "df_fact.show()"
   ],
   "outputs": [
    {
     "output_type": "display_data",
     "data": {
      "application/vnd.livy.statement-meta+json": {
       "spark_pool": null,
       "statement_id": 10,
       "statement_ids": [
        10
       ],
       "state": "finished",
       "livy_statement_state": "available",
       "session_id": "7ab55832-a700-4179-bad5-8044a89fb3b3",
       "normalized_state": "finished",
       "queued_time": "2025-08-06T12:50:02.1986099Z",
       "session_start_time": null,
       "execution_start_time": "2025-08-06T12:50:02.1996369Z",
       "execution_finish_time": "2025-08-06T12:50:02.9914556Z",
       "parent_msg_id": "353e5d31-a40b-41f9-9a3a-8c032a0c356f"
      },
      "text/plain": "StatementMeta(, 7ab55832-a700-4179-bad5-8044a89fb3b3, 10, Finished, Available, Finished)"
     },
     "metadata": {}
    },
    {
     "output_type": "stream",
     "name": "stdout",
     "text": [
      "+---------------+--------------+------------+--------+------------+----------+\n|Dim_Customer_ID|Dim_Product_ID|Dim_Store_ID|quantity|total_amount| sale_date|\n+---------------+--------------+------------+--------+------------+----------+\n|           4568|          1428|           5|       3|       675.0|2022-04-04|\n|           3883|          9222|           5|       5|       720.0|2022-02-19|\n|           1642|          5603|           3|       1|       211.0|2022-02-24|\n|            330|          8877|           3|       5|      1005.0|2025-04-02|\n|           4739|          2002|           6|       2|       658.0|2022-08-28|\n|           4110|          6283|           1|       4|      1096.0|2022-02-08|\n|           2726|          5111|           4|       1|       147.0|2023-01-01|\n|           4579|           110|           4|       5|      1175.0|2025-04-26|\n|           9121|          6877|           2|       1|       293.0|2025-01-29|\n|           2880|          3496|           5|       5|      1425.0|2024-07-08|\n|           9319|          6557|           3|       2|       990.0|2024-10-11|\n|           8769|          4071|           3|       4|       968.0|2024-04-16|\n|           6341|           557|           1|       3|       843.0|2023-04-29|\n|           2974|          8633|           5|       1|       411.0|2022-07-25|\n|            921|          2641|           5|       2|       366.0|2025-02-12|\n|            915|           329|           5|       5|      1060.0|2025-05-21|\n|            878|          2346|           1|       1|       261.0|2022-04-25|\n|            493|           981|           1|       5|      2335.0|2024-09-14|\n|           8954|          5296|           6|       4|       692.0|2025-04-24|\n|           8337|          5133|           5|       5|      1875.0|2022-07-19|\n+---------------+--------------+------------+--------+------------+----------+\nonly showing top 20 rows\n\n"
     ]
    }
   ],
   "execution_count": 8,
   "metadata": {
    "microsoft": {
     "language": "python",
     "language_group": "synapse_pyspark"
    }
   },
   "id": "87a613e7-1151-4e46-9126-6114f4e6815b"
  },
  {
   "cell_type": "code",
   "source": [
    "from pyspark.sql.functions import row_number\n",
    "from pyspark.sql.window import Window\n",
    "df_fact = df_fact.withColumn(\"Fact_ID\",row_number().over(Window.orderBy(\"sale_date\")))\n",
    "\n"
   ],
   "outputs": [
    {
     "output_type": "display_data",
     "data": {
      "application/vnd.livy.statement-meta+json": {
       "spark_pool": null,
       "statement_id": 13,
       "statement_ids": [
        13
       ],
       "state": "finished",
       "livy_statement_state": "available",
       "session_id": "7ab55832-a700-4179-bad5-8044a89fb3b3",
       "normalized_state": "finished",
       "queued_time": "2025-08-06T12:55:18.231437Z",
       "session_start_time": null,
       "execution_start_time": "2025-08-06T12:55:18.2324696Z",
       "execution_finish_time": "2025-08-06T12:55:18.5164896Z",
       "parent_msg_id": "a85d0a23-afcd-43de-a1b5-535537c6e875"
      },
      "text/plain": "StatementMeta(, 7ab55832-a700-4179-bad5-8044a89fb3b3, 13, Finished, Available, Finished)"
     },
     "metadata": {}
    }
   ],
   "execution_count": 11,
   "metadata": {
    "jupyter": {
     "source_hidden": false,
     "outputs_hidden": false
    },
    "nteract": {
     "transient": {
      "deleting": false
     }
    },
    "microsoft": {
     "language": "python",
     "language_group": "synapse_pyspark"
    }
   },
   "id": "55c4ef1f-dbb9-4dec-a7b3-2f4268d41286"
  },
  {
   "cell_type": "code",
   "source": [
    "df_fact.show()"
   ],
   "outputs": [
    {
     "output_type": "display_data",
     "data": {
      "application/vnd.livy.statement-meta+json": {
       "spark_pool": null,
       "statement_id": 14,
       "statement_ids": [
        14
       ],
       "state": "finished",
       "livy_statement_state": "available",
       "session_id": "7ab55832-a700-4179-bad5-8044a89fb3b3",
       "normalized_state": "finished",
       "queued_time": "2025-08-06T12:55:41.5587567Z",
       "session_start_time": null,
       "execution_start_time": "2025-08-06T12:55:41.5597804Z",
       "execution_finish_time": "2025-08-06T12:55:43.0458776Z",
       "parent_msg_id": "819093e9-f5bd-4491-a9fb-0fce2eb4c8c9"
      },
      "text/plain": "StatementMeta(, 7ab55832-a700-4179-bad5-8044a89fb3b3, 14, Finished, Available, Finished)"
     },
     "metadata": {}
    },
    {
     "output_type": "stream",
     "name": "stdout",
     "text": [
      "+---------------+--------------+------------+--------+------------+----------+-------+\n|Dim_Customer_ID|Dim_Product_ID|Dim_Store_ID|quantity|total_amount| sale_date|Fact_ID|\n+---------------+--------------+------------+--------+------------+----------+-------+\n|           3001|          5815|           3|       3|      1485.0|2022-01-01|      1|\n|           2463|            20|           1|       2|       536.0|2022-01-01|      2|\n|           5680|          7607|           2|       5|      1750.0|2022-01-01|      3|\n|           3055|          9267|           5|       1|       185.0|2022-01-01|      4|\n|            978|          8388|           1|       4|       708.0|2022-01-01|      5|\n|           2964|          3793|           3|       4|       772.0|2022-01-01|      6|\n|           3134|          1089|           3|       5|       705.0|2022-01-01|      7|\n|           4141|          6982|           5|       2|       544.0|2022-01-02|      8|\n|           1822|          2862|           5|       5|      1600.0|2022-01-02|      9|\n|           6558|          1839|           6|       3|       453.0|2022-01-02|     10|\n|           7260|          4740|           3|       1|       302.0|2022-01-02|     11|\n|           6484|          8059|           1|       1|       414.0|2022-01-02|     12|\n|           7832|          3111|           1|       3|       579.0|2022-01-02|     13|\n|           8610|          2268|           1|       5|      1295.0|2022-01-03|     14|\n|           6411|           871|           2|       3|       528.0|2022-01-03|     15|\n|           7719|          6047|           5|       1|       294.0|2022-01-03|     16|\n|            415|          1565|           6|       4|       968.0|2022-01-03|     17|\n|           5838|           945|           2|       2|       240.0|2022-01-03|     18|\n|           8999|          9190|           1|       3|       678.0|2022-01-03|     19|\n|           2462|          4342|           6|       2|       418.0|2022-01-03|     20|\n+---------------+--------------+------------+--------+------------+----------+-------+\nonly showing top 20 rows\n\n"
     ]
    }
   ],
   "execution_count": 12,
   "metadata": {
    "microsoft": {
     "language": "python",
     "language_group": "synapse_pyspark"
    }
   },
   "id": "a6fbe337-e62d-434b-802d-2038c3a27ab9"
  },
  {
   "cell_type": "code",
   "source": [
    "df_fact.write.mode(\"overwrite\").format(\"delta\").save(f\"{Gold_lakehouse_Path}/FactSales\")"
   ],
   "outputs": [
    {
     "output_type": "display_data",
     "data": {
      "application/vnd.livy.statement-meta+json": {
       "spark_pool": null,
       "statement_id": 15,
       "statement_ids": [
        15
       ],
       "state": "finished",
       "livy_statement_state": "available",
       "session_id": "7ab55832-a700-4179-bad5-8044a89fb3b3",
       "normalized_state": "finished",
       "queued_time": "2025-08-06T12:57:11.0778688Z",
       "session_start_time": null,
       "execution_start_time": "2025-08-06T12:57:11.0789488Z",
       "execution_finish_time": "2025-08-06T12:57:17.2235341Z",
       "parent_msg_id": "d7982032-2a6a-4e3a-a1e5-5676893c0342"
      },
      "text/plain": "StatementMeta(, 7ab55832-a700-4179-bad5-8044a89fb3b3, 15, Finished, Available, Finished)"
     },
     "metadata": {}
    }
   ],
   "execution_count": 13,
   "metadata": {
    "microsoft": {
     "language": "python",
     "language_group": "synapse_pyspark"
    }
   },
   "id": "65401525-9fbd-4e96-aa92-6b2db15ac4ff"
  }
 ],
 "metadata": {
  "kernel_info": {
   "name": "synapse_pyspark"
  },
  "kernelspec": {
   "name": "synapse_pyspark",
   "display_name": "synapse_pyspark"
  },
  "language_info": {
   "name": "python"
  },
  "microsoft": {
   "language": "python",
   "language_group": "synapse_pyspark",
   "ms_spell_check": {
    "ms_spell_check_language": "en"
   }
  },
  "nteract": {
   "version": "nteract-front-end@1.0.0"
  },
  "spark_compute": {
   "compute_id": "/trident/default",
   "session_options": {
    "conf": {
     "spark.synapse.nbs.session.timeout": "1200000"
    }
   }
  },
  "dependencies": {
   "lakehouse": {
    "default_lakehouse": "ce018ed7-a703-437b-b28d-634cb566a0f9",
    "known_lakehouses": [
     {
      "id": "ce018ed7-a703-437b-b28d-634cb566a0f9"
     }
    ],
    "default_lakehouse_name": "Silver_lakehouse",
    "default_lakehouse_workspace_id": "6534199d-2767-4639-9e38-b82325ea51f2"
   }
  }
 },
 "nbformat": 4,
 "nbformat_minor": 5
}
